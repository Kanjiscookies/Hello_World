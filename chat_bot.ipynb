{
  "nbformat": 4,
  "nbformat_minor": 0,
  "metadata": {
    "colab": {
      "provenance": [],
      "authorship_tag": "ABX9TyNrjgHwCx84QgHPu+q4rTiN",
      "include_colab_link": true
    },
    "kernelspec": {
      "name": "python3",
      "display_name": "Python 3"
    },
    "language_info": {
      "name": "python"
    }
  },
  "cells": [
    {
      "cell_type": "markdown",
      "metadata": {
        "id": "view-in-github",
        "colab_type": "text"
      },
      "source": [
        "<a href=\"https://colab.research.google.com/github/Kanjiscookies/Hello_World/blob/master/chat_bot.ipynb\" target=\"_parent\"><img src=\"https://colab.research.google.com/assets/colab-badge.svg\" alt=\"Open In Colab\"/></a>"
      ]
    },
    {
      "cell_type": "markdown",
      "source": [
        "Instalando o SDK Gemini no Python, o profixo -q significa quiet, pra não gerar aquele log gigante apos a importação"
      ],
      "metadata": {
        "id": "43smwqVqBIcs"
      }
    },
    {
      "cell_type": "code",
      "execution_count": null,
      "metadata": {
        "id": "-ypMbfGQA9MV"
      },
      "outputs": [],
      "source": [
        "!pip install -q -U google-generativeai"
      ]
    },
    {
      "cell_type": "code",
      "source": [
        "import google.generativeai as genai\n",
        "from google.colab import userdata\n",
        "\n",
        "\n",
        "api_key = userdata.get(\"SECRET_KEY\")\n",
        "genai.configure(api_key=api_key)"
      ],
      "metadata": {
        "id": "-y0GvlWuBD18"
      },
      "execution_count": null,
      "outputs": []
    },
    {
      "cell_type": "markdown",
      "source": [
        "Listar os modelos disponiveis"
      ],
      "metadata": {
        "id": "8qZuQSo6CpKt"
      }
    },
    {
      "cell_type": "code",
      "source": [
        "for m in genai.list_models():\n",
        "  if 'generateContent' in m.supported_generation_methods:\n",
        "    print(m.name)"
      ],
      "metadata": {
        "colab": {
          "base_uri": "https://localhost:8080/",
          "height": 139
        },
        "id": "WyAKVy15BkFn",
        "outputId": "805c3aa8-b285-4562-d255-1e721c531f78"
      },
      "execution_count": null,
      "outputs": [
        {
          "output_type": "stream",
          "name": "stdout",
          "text": [
            "models/gemini-1.0-pro\n",
            "models/gemini-1.0-pro-001\n",
            "models/gemini-1.0-pro-latest\n",
            "models/gemini-1.0-pro-vision-latest\n",
            "models/gemini-1.5-pro-latest\n",
            "models/gemini-pro\n",
            "models/gemini-pro-vision\n"
          ]
        }
      ]
    },
    {
      "cell_type": "markdown",
      "source": [
        "Configurando a IA com código"
      ],
      "metadata": {
        "id": "b4ADvDVaDj5w"
      }
    },
    {
      "cell_type": "code",
      "source": [
        "generation_config = {\n",
        "    \"candidate_count\": 1,\n",
        "    \"temperature\":0.5,\n",
        "}"
      ],
      "metadata": {
        "id": "bPKphFulDrjy"
      },
      "execution_count": null,
      "outputs": []
    },
    {
      "cell_type": "markdown",
      "source": [
        "Fazendo as configurações de segurança em bloqueio zero. É um metodo interessante para analizar textos recebidos, porem pode gerar resultados sem filtros. Usar com cuidado."
      ],
      "metadata": {
        "id": "BciA7VLkEvvO"
      }
    },
    {
      "cell_type": "code",
      "source": [
        "safety_settings = {\n",
        "    \"HARASSMENT\" : \"BLOCK_NONE\",\n",
        "    \"HATE\" : \"BLOCK_NONE\",\n",
        "    \"SEXUAL\" : \"BLOCK_NONE\",\n",
        "    \"DANGEROUS\" : \"BLOCK_NONE\",\n",
        "    }"
      ],
      "metadata": {
        "id": "hOcPP8FXEDQz"
      },
      "execution_count": null,
      "outputs": []
    },
    {
      "cell_type": "markdown",
      "source": [
        "Inicializando o modelo"
      ],
      "metadata": {
        "id": "iVlbtOGYFAMQ"
      }
    },
    {
      "cell_type": "code",
      "source": [
        "model = genai.GenerativeModel(model_name=\"gemini-1.0-pro\",\n",
        "                              generation_config=generation_config,\n",
        "                              safety_settings=safety_settings)"
      ],
      "metadata": {
        "id": "gr9zh8LxFDmE"
      },
      "execution_count": null,
      "outputs": []
    },
    {
      "cell_type": "markdown",
      "source": [
        "Configurando a resposta do modelo. Importante o uso do \".text\" para filtar o resultado. Se não usar sai em resultado em formato de código."
      ],
      "metadata": {
        "id": "TNq3U4DnGU5f"
      }
    },
    {
      "cell_type": "code",
      "source": [
        "response = model.generate_content(\"Write a story about a magic backpack.\")\n",
        "print(response.text)"
      ],
      "metadata": {
        "colab": {
          "base_uri": "https://localhost:8080/",
          "height": 297
        },
        "id": "i8--MvQRGUIs",
        "outputId": "9ecc4272-cd94-43b4-b99f-fb5997b4f5ac"
      },
      "execution_count": null,
      "outputs": [
        {
          "output_type": "stream",
          "name": "stdout",
          "text": [
            "In the bustling metropolis where towering skyscrapers cast long shadows, there lived an ordinary schoolgirl named Anya. Little did she know that her life was about to take an extraordinary turn when she stumbled upon a peculiar backpack hidden amidst a pile of discarded items.\n",
            "\n",
            "As Anya lifted the backpack, she felt a surge of energy coursing through her body. Its worn leather exterior seemed to whisper secrets, promising adventures beyond her wildest dreams. Curiosity got the better of her, and she unzipped the main compartment.\n",
            "\n",
            "To her astonishment, instead of books and pencils, she found a kaleidoscope of shimmering objects. There was a golden compass that pointed to hidden treasures, a quill that wrote stories that came to life, and a pair of shoes that allowed her to walk through walls.\n",
            "\n",
            "Anya couldn't believe her eyes. She had discovered a magic backpack, a portal to a world of wonder and possibility. With newfound excitement, she slipped it onto her shoulders and set out to explore its secrets.\n",
            "\n",
            "The compass led her to a hidden garden tucked away behind a forgotten alleyway. The quill penned poems that sang in her ears, inspiring her to dream big. And the shoes carried her through the walls of her school, allowing her to witness the hidden conversations and secrets that lay within.\n",
            "\n",
            "One day, as Anya was walking through the city, she noticed a group of children being bullied. Without hesitation, she used the backpack's magic to create a shimmering force field around them, protecting them from harm. The bullies were stunned and fled in fear.\n",
            "\n",
            "From that day forward, Anya became known as the \"Guardian of the Backpack.\" She used its powers to help those in need, fighting injustice and spreading joy wherever she went. The magic backpack had transformed her life, turning her from an ordinary schoolgirl into an extraordinary heroine.\n",
            "\n",
            "As the years passed, Anya's adventures continued, each one more thrilling than the last. The magic backpack became her constant companion, a symbol of the boundless possibilities that lay within her own heart. And so, the legend of the Guardian of the Backpack was passed down through generations, inspiring children to believe that even the most ordinary of objects can hold the power to change the world.\n"
          ]
        }
      ]
    },
    {
      "cell_type": "code",
      "source": [
        "chat = model.start_chat(history=[])"
      ],
      "metadata": {
        "id": "JYBv0gLZG2lt"
      },
      "execution_count": null,
      "outputs": []
    },
    {
      "cell_type": "code",
      "source": [
        "prompt = input(\"Esperando prompt: \")\n",
        "\n",
        "while prompt != \"fim\":\n",
        "  response = chat.send_message(prompt)\n",
        "  print(\"Resposta: \", response.text, \"\\n\")\n",
        "  prompt = input(\"Esperando prompt: \")"
      ],
      "metadata": {
        "colab": {
          "base_uri": "https://localhost:8080/",
          "height": 488
        },
        "id": "DGs27V9RHKj2",
        "outputId": "31bd41c3-0969-4548-c771-f7353dfe32c0"
      },
      "execution_count": null,
      "outputs": [
        {
          "name": "stdout",
          "output_type": "stream",
          "text": [
            "Esperando prompt: qual plataforma roda o League of Legends\n",
            "Resposta:  Windows, macOS \n",
            "\n",
            "Esperando prompt: qual objetivo desse jogo?\n",
            "Resposta:  O objetivo do League of Legends (LoL) é destruir o Nexus da equipe adversária, uma estrutura localizada na base deles. Para fazer isso, os jogadores controlam campeões, personagens únicos com habilidades especiais, e trabalham juntos para derrubar torres, inibidores e outros objetivos no mapa.\n",
            "\n",
            "Além disso, os jogadores devem coletar ouro e experiência para melhorar seus campeões e comprar itens que os tornem mais fortes. O jogo termina quando uma equipe destrói o Nexus da outra equipe ou quando uma equipe se rende. \n",
            "\n",
            "Esperando prompt: qual elo mais alto?\n",
            "Resposta:  Desafiante\n",
            "\n",
            "O sistema de classificação do League of Legends é dividido em vários elos, do mais baixo ao mais alto:\n",
            "\n",
            "* Ferro\n",
            "* Bronze\n",
            "* Prata\n",
            "* Ouro\n",
            "* Platina\n",
            "* Diamante\n",
            "* Mestre\n",
            "* Grão-Mestre\n",
            "* Desafiante\n",
            "\n",
            "O elo Desafiante é o mais alto e é reservado para os melhores jogadores do mundo. Apenas um pequeno número de jogadores atinge o elo Desafiante a cada temporada. \n",
            "\n",
            "Esperando prompt: fim\n"
          ]
        }
      ]
    },
    {
      "cell_type": "code",
      "source": [
        "# Melhorando a visualização\n",
        "# Código disponível em https://ai.google.dev/tutorials/python_quickstart#import_packages\n",
        "\n",
        "import textwrap\n",
        "from IPython.display import display\n",
        "\n",
        "from IPython.display import Markdown\n",
        "\n",
        "def to_markdown(text):\n",
        "    \"\"\"\n",
        "    Converte texto em Markdown.\n",
        "\n",
        "    Args:\n",
        "        text (str): Texto a ser convertido.\n",
        "\n",
        "    Returns:\n",
        "        Markdown: Texto convertido em Markdown.\n",
        "    \"\"\"\n",
        "    text = text.replace('.', '. \\n')  # Adiciona quebra de linha após cada ponto\n",
        "    return Markdown(textwrap.indent(text, prefix='> '))  # Indenta o texto e o envolve em Markdown\n",
        "\n",
        "# Imprimindo o histórico\n",
        "for message in chat.history:\n",
        "    \"\"\"\n",
        "    Exibe cada mensagem no histórico da conversa em Markdown.\n",
        "\n",
        "    Args:\n",
        "        message (Message): Mensagem no histórico da conversa.\n",
        "    \"\"\"\n",
        "    display(to_markdown(f\"**{message.role}**: {message.parts[0].text}\"))  # Exibe a mensagem em Markdown\n",
        "    print(\"------------------------------------------\")  # Adiciona uma quebra de linha após cada mensagem"
      ],
      "metadata": {
        "colab": {
          "base_uri": "https://localhost:8080/",
          "height": 727
        },
        "id": "K3C-pwT3JgZm",
        "outputId": "3519cc95-e804-41a7-ff08-50f338852ca3"
      },
      "execution_count": null,
      "outputs": [
        {
          "output_type": "display_data",
          "data": {
            "text/plain": [
              "<IPython.core.display.Markdown object>"
            ],
            "text/markdown": "> **user**: qual plataforma roda o League of Legends"
          },
          "metadata": {}
        },
        {
          "output_type": "stream",
          "name": "stdout",
          "text": [
            "------------------------------------------\n"
          ]
        },
        {
          "output_type": "display_data",
          "data": {
            "text/plain": [
              "<IPython.core.display.Markdown object>"
            ],
            "text/markdown": "> **model**: Windows, macOS"
          },
          "metadata": {}
        },
        {
          "output_type": "stream",
          "name": "stdout",
          "text": [
            "------------------------------------------\n"
          ]
        },
        {
          "output_type": "display_data",
          "data": {
            "text/plain": [
              "<IPython.core.display.Markdown object>"
            ],
            "text/markdown": "> **user**: qual objetivo desse jogo?"
          },
          "metadata": {}
        },
        {
          "output_type": "stream",
          "name": "stdout",
          "text": [
            "------------------------------------------\n"
          ]
        },
        {
          "output_type": "display_data",
          "data": {
            "text/plain": [
              "<IPython.core.display.Markdown object>"
            ],
            "text/markdown": "> **model**: O objetivo do League of Legends (LoL) é destruir o Nexus da equipe adversária, uma estrutura localizada na base deles. \n>  Para fazer isso, os jogadores controlam campeões, personagens únicos com habilidades especiais, e trabalham juntos para derrubar torres, inibidores e outros objetivos no mapa. \n\n\n> Além disso, os jogadores devem coletar ouro e experiência para melhorar seus campeões e comprar itens que os tornem mais fortes. \n>  O jogo termina quando uma equipe destrói o Nexus da outra equipe ou quando uma equipe se rende. \n"
          },
          "metadata": {}
        },
        {
          "output_type": "stream",
          "name": "stdout",
          "text": [
            "------------------------------------------\n"
          ]
        },
        {
          "output_type": "display_data",
          "data": {
            "text/plain": [
              "<IPython.core.display.Markdown object>"
            ],
            "text/markdown": "> **user**: qual elo mais alto?"
          },
          "metadata": {}
        },
        {
          "output_type": "stream",
          "name": "stdout",
          "text": [
            "------------------------------------------\n"
          ]
        },
        {
          "output_type": "display_data",
          "data": {
            "text/plain": [
              "<IPython.core.display.Markdown object>"
            ],
            "text/markdown": "> **model**: Desafiante\n\n> O sistema de classificação do League of Legends é dividido em vários elos, do mais baixo ao mais alto:\n\n> * Ferro\n> * Bronze\n> * Prata\n> * Ouro\n> * Platina\n> * Diamante\n> * Mestre\n> * Grão-Mestre\n> * Desafiante\n\n> O elo Desafiante é o mais alto e é reservado para os melhores jogadores do mundo. \n>  Apenas um pequeno número de jogadores atinge o elo Desafiante a cada temporada. \n"
          },
          "metadata": {}
        },
        {
          "output_type": "stream",
          "name": "stdout",
          "text": [
            "------------------------------------------\n"
          ]
        }
      ]
    }
  ]
}